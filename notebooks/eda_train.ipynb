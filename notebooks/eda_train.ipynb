{
 "cells": [
  {
   "cell_type": "code",
   "execution_count": 1,
   "id": "aa39f746-4399-4a3b-ace4-e8f2b630e3fb",
   "metadata": {},
   "outputs": [],
   "source": [
    "import pandas as pd"
   ]
  },
  {
   "cell_type": "code",
   "execution_count": 2,
   "id": "bd2319b4-0826-4c48-8a61-988f8b80d9e3",
   "metadata": {},
   "outputs": [],
   "source": [
    "base_path = '../data'"
   ]
  },
  {
   "cell_type": "code",
   "execution_count": 3,
   "id": "ce50d39c-f101-4ccf-b748-f778cc847a5d",
   "metadata": {},
   "outputs": [
    {
     "name": "stdout",
     "output_type": "stream",
     "text": [
      "(20216100, 4)\n",
      "building_id        int64\n",
      "meter              int64\n",
      "timestamp         object\n",
      "meter_reading    float64\n",
      "dtype: object\n"
     ]
    },
    {
     "data": {
      "text/html": [
       "<div>\n",
       "<style scoped>\n",
       "    .dataframe tbody tr th:only-of-type {\n",
       "        vertical-align: middle;\n",
       "    }\n",
       "\n",
       "    .dataframe tbody tr th {\n",
       "        vertical-align: top;\n",
       "    }\n",
       "\n",
       "    .dataframe thead th {\n",
       "        text-align: right;\n",
       "    }\n",
       "</style>\n",
       "<table border=\"1\" class=\"dataframe\">\n",
       "  <thead>\n",
       "    <tr style=\"text-align: right;\">\n",
       "      <th></th>\n",
       "      <th>building_id</th>\n",
       "      <th>meter</th>\n",
       "      <th>timestamp</th>\n",
       "      <th>meter_reading</th>\n",
       "    </tr>\n",
       "  </thead>\n",
       "  <tbody>\n",
       "    <tr>\n",
       "      <th>0</th>\n",
       "      <td>0</td>\n",
       "      <td>0</td>\n",
       "      <td>2016-01-01 00:00:00</td>\n",
       "      <td>0.0</td>\n",
       "    </tr>\n",
       "    <tr>\n",
       "      <th>1</th>\n",
       "      <td>1</td>\n",
       "      <td>0</td>\n",
       "      <td>2016-01-01 00:00:00</td>\n",
       "      <td>0.0</td>\n",
       "    </tr>\n",
       "    <tr>\n",
       "      <th>2</th>\n",
       "      <td>2</td>\n",
       "      <td>0</td>\n",
       "      <td>2016-01-01 00:00:00</td>\n",
       "      <td>0.0</td>\n",
       "    </tr>\n",
       "    <tr>\n",
       "      <th>3</th>\n",
       "      <td>3</td>\n",
       "      <td>0</td>\n",
       "      <td>2016-01-01 00:00:00</td>\n",
       "      <td>0.0</td>\n",
       "    </tr>\n",
       "    <tr>\n",
       "      <th>4</th>\n",
       "      <td>4</td>\n",
       "      <td>0</td>\n",
       "      <td>2016-01-01 00:00:00</td>\n",
       "      <td>0.0</td>\n",
       "    </tr>\n",
       "  </tbody>\n",
       "</table>\n",
       "</div>"
      ],
      "text/plain": [
       "   building_id  meter            timestamp  meter_reading\n",
       "0            0      0  2016-01-01 00:00:00            0.0\n",
       "1            1      0  2016-01-01 00:00:00            0.0\n",
       "2            2      0  2016-01-01 00:00:00            0.0\n",
       "3            3      0  2016-01-01 00:00:00            0.0\n",
       "4            4      0  2016-01-01 00:00:00            0.0"
      ]
     },
     "execution_count": 3,
     "metadata": {},
     "output_type": "execute_result"
    }
   ],
   "source": [
    "train_df = pd.read_csv(f'{base_path}/train.csv')\n",
    "\n",
    "print(train_df.shape)\n",
    "\n",
    "print(train_df.dtypes)\n",
    "\n",
    "train_df.head()"
   ]
  },
  {
   "cell_type": "markdown",
   "id": "98eda07c-c395-4aa3-8793-580b8941b3ac",
   "metadata": {},
   "source": [
    "# Cast de colunas"
   ]
  },
  {
   "cell_type": "code",
   "execution_count": 4,
   "id": "e0077d46-ea8a-4887-9588-36a6bbdb62ff",
   "metadata": {},
   "outputs": [],
   "source": [
    "train_df['timestamp'] = pd.to_datetime(train_df['timestamp'], format='%Y-%m-%d %H:%M:%S', errors='raise')"
   ]
  },
  {
   "cell_type": "markdown",
   "id": "36776998-1094-4e3a-bad2-c4ab69a967b9",
   "metadata": {},
   "source": [
    "# Initial plots"
   ]
  },
  {
   "cell_type": "code",
   "execution_count": 18,
   "id": "54027e39-cfae-4f8e-a7d3-688cb1330c15",
   "metadata": {},
   "outputs": [
    {
     "data": {
      "text/plain": [
       "0           2016-01-01\n",
       "36742       2016-01-01\n",
       "36743       2016-01-01\n",
       "36744       2016-01-01\n",
       "36745       2016-01-01\n",
       "               ...    \n",
       "20178296    2016-12-31\n",
       "20178297    2016-12-31\n",
       "20178298    2016-12-31\n",
       "20178287    2016-12-31\n",
       "20216099    2016-12-31\n",
       "Name: timestamp, Length: 20216100, dtype: object"
      ]
     },
     "execution_count": 18,
     "metadata": {},
     "output_type": "execute_result"
    }
   ],
   "source": [
    "train_df['timestamp'].dt.date.sort_values()"
   ]
  },
  {
   "cell_type": "code",
   "execution_count": 5,
   "id": "7c25f3cb-c3f0-414c-95f2-3b8232b69119",
   "metadata": {},
   "outputs": [
    {
     "data": {
      "text/plain": [
       "<AxesSubplot:xlabel='timestamp'>"
      ]
     },
     "execution_count": 5,
     "metadata": {},
     "output_type": "execute_result"
    },
    {
     "data": {
      "image/png": "[encoded data removed]",
      "text/plain": [
       "<Figure size 432x288 with 1 Axes>"
      ]
     },
     "metadata": {
      "needs_background": "light"
     },
     "output_type": "display_data"
    }
   ],
   "source": [
    "(\n",
    "    train_df\n",
    "    .set_index('timestamp')['meter_reading']\n",
    "    .plot()\n",
    ")"
   ]
  },
  {
   "cell_type": "code",
   "execution_count": 37,
   "id": "3367510a-0366-4ef8-8599-9844328168a5",
   "metadata": {},
   "outputs": [
    {
     "data": {
      "text/plain": [
       "<AxesSubplot:>"
      ]
     },
     "execution_count": 37,
     "metadata": {},
     "output_type": "execute_result"
    },
    {
     "data": {
      "image/png": "[encoded data removed]",
      "text/plain": [
       "<Figure size 432x288 with 1 Axes>"
      ]
     },
     "metadata": {
      "needs_background": "light"
     },
     "output_type": "display_data"
    }
   ],
   "source": [
    "train_df['meter_reading'].hist(bins=50)"
   ]
  },
  {
   "cell_type": "code",
   "execution_count": 9,
   "id": "28a4b3fb-a3ef-4e51-96d7-b5fe58f512ee",
   "metadata": {},
   "outputs": [
    {
     "data": {
      "text/html": [
       "<div>\n",
       "<style scoped>\n",
       "    .dataframe tbody tr th:only-of-type {\n",
       "        vertical-align: middle;\n",
       "    }\n",
       "\n",
       "    .dataframe tbody tr th {\n",
       "        vertical-align: top;\n",
       "    }\n",
       "\n",
       "    .dataframe thead th {\n",
       "        text-align: right;\n",
       "    }\n",
       "</style>\n",
       "<table border=\"1\" class=\"dataframe\">\n",
       "  <thead>\n",
       "    <tr style=\"text-align: right;\">\n",
       "      <th></th>\n",
       "      <th>meter</th>\n",
       "      <th>meter_reading</th>\n",
       "    </tr>\n",
       "    <tr>\n",
       "      <th>timestamp</th>\n",
       "      <th></th>\n",
       "      <th></th>\n",
       "    </tr>\n",
       "  </thead>\n",
       "  <tbody>\n",
       "    <tr>\n",
       "      <th>2016-01-01 00:00:00</th>\n",
       "      <td>0</td>\n",
       "      <td>1.467970e+05</td>\n",
       "    </tr>\n",
       "    <tr>\n",
       "      <th>2016-01-01 00:00:00</th>\n",
       "      <td>1</td>\n",
       "      <td>5.239657e+04</td>\n",
       "    </tr>\n",
       "    <tr>\n",
       "      <th>2016-01-01 00:00:00</th>\n",
       "      <td>2</td>\n",
       "      <td>3.924435e+06</td>\n",
       "    </tr>\n",
       "    <tr>\n",
       "      <th>2016-01-01 00:00:00</th>\n",
       "      <td>3</td>\n",
       "      <td>8.765517e+04</td>\n",
       "    </tr>\n",
       "    <tr>\n",
       "      <th>2016-01-01 01:00:00</th>\n",
       "      <td>0</td>\n",
       "      <td>1.664396e+05</td>\n",
       "    </tr>\n",
       "  </tbody>\n",
       "</table>\n",
       "</div>"
      ],
      "text/plain": [
       "                     meter  meter_reading\n",
       "timestamp                                \n",
       "2016-01-01 00:00:00      0   1.467970e+05\n",
       "2016-01-01 00:00:00      1   5.239657e+04\n",
       "2016-01-01 00:00:00      2   3.924435e+06\n",
       "2016-01-01 00:00:00      3   8.765517e+04\n",
       "2016-01-01 01:00:00      0   1.664396e+05"
      ]
     },
     "execution_count": 9,
     "metadata": {},
     "output_type": "execute_result"
    }
   ],
   "source": [
    "# separando por meter\n",
    "df_meter = (\n",
    "    train_df\n",
    "    .groupby(['timestamp', 'meter'])['meter_reading']\n",
    "    .sum()\n",
    "    .reset_index()\n",
    "    .set_index('timestamp')\n",
    ")\n",
    "\n",
    "df_meter.head()"
   ]
  },
  {
   "cell_type": "markdown",
   "id": "58dbb3b7-76fe-4d4b-b5ab-48df81b04c63",
   "metadata": {},
   "source": [
    "# Electricity"
   ]
  },
  {
   "cell_type": "code",
   "execution_count": 27,
   "id": "04f0905c-d37e-4d04-9498-b31c581e01ac",
   "metadata": {
    "tags": []
   },
   "outputs": [
    {
     "data": {
      "text/html": [
       "<div>\n",
       "<style scoped>\n",
       "    .dataframe tbody tr th:only-of-type {\n",
       "        vertical-align: middle;\n",
       "    }\n",
       "\n",
       "    .dataframe tbody tr th {\n",
       "        vertical-align: top;\n",
       "    }\n",
       "\n",
       "    .dataframe thead th {\n",
       "        text-align: right;\n",
       "    }\n",
       "</style>\n",
       "<table border=\"1\" class=\"dataframe\">\n",
       "  <thead>\n",
       "    <tr style=\"text-align: right;\">\n",
       "      <th></th>\n",
       "      <th>meter</th>\n",
       "      <th>meter_reading</th>\n",
       "    </tr>\n",
       "    <tr>\n",
       "      <th>timestamp</th>\n",
       "      <th></th>\n",
       "      <th></th>\n",
       "    </tr>\n",
       "  </thead>\n",
       "  <tbody>\n",
       "    <tr>\n",
       "      <th>2016-01-01 00:00:00</th>\n",
       "      <td>0</td>\n",
       "      <td>146796.9708</td>\n",
       "    </tr>\n",
       "    <tr>\n",
       "      <th>2016-01-01 01:00:00</th>\n",
       "      <td>0</td>\n",
       "      <td>166439.5826</td>\n",
       "    </tr>\n",
       "    <tr>\n",
       "      <th>2016-01-01 02:00:00</th>\n",
       "      <td>0</td>\n",
       "      <td>166652.5184</td>\n",
       "    </tr>\n",
       "    <tr>\n",
       "      <th>2016-01-01 03:00:00</th>\n",
       "      <td>0</td>\n",
       "      <td>166988.5308</td>\n",
       "    </tr>\n",
       "    <tr>\n",
       "      <th>2016-01-01 04:00:00</th>\n",
       "      <td>0</td>\n",
       "      <td>167381.4970</td>\n",
       "    </tr>\n",
       "  </tbody>\n",
       "</table>\n",
       "</div>"
      ],
      "text/plain": [
       "                     meter  meter_reading\n",
       "timestamp                                \n",
       "2016-01-01 00:00:00      0    146796.9708\n",
       "2016-01-01 01:00:00      0    166439.5826\n",
       "2016-01-01 02:00:00      0    166652.5184\n",
       "2016-01-01 03:00:00      0    166988.5308\n",
       "2016-01-01 04:00:00      0    167381.4970"
      ]
     },
     "execution_count": 27,
     "metadata": {},
     "output_type": "execute_result"
    }
   ],
   "source": [
    "df_electricity = df_meter.query('meter == 0')\n",
    "df_electricity.head()"
   ]
  },
  {
   "cell_type": "code",
   "execution_count": 38,
   "id": "67298377-ba2e-4470-aa34-231f10601a68",
   "metadata": {},
   "outputs": [
    {
     "data": {
      "text/plain": [
       "<AxesSubplot:>"
      ]
     },
     "execution_count": 38,
     "metadata": {},
     "output_type": "execute_result"
    },
    {
     "data": {
      "image/png": "[encoded data removed]",
      "text/plain": [
       "<Figure size 432x288 with 1 Axes>"
      ]
     },
     "metadata": {
      "needs_background": "light"
     },
     "output_type": "display_data"
    }
   ],
   "source": [
    "df_electricity['meter_reading'].hist(bins=50)"
   ]
  },
  {
   "cell_type": "code",
   "execution_count": 44,
   "id": "1585e0ec-88a4-4031-af52-6534c9d86ae9",
   "metadata": {},
   "outputs": [
    {
     "data": {
      "text/plain": [
       "count      8784.000000\n",
       "mean     234552.894683\n",
       "std       41777.364106\n",
       "min       99336.000700\n",
       "25%      203950.088125\n",
       "50%      231349.616550\n",
       "75%      259272.487950\n",
       "max      401885.223100\n",
       "Name: meter_reading, dtype: float64"
      ]
     },
     "execution_count": 44,
     "metadata": {},
     "output_type": "execute_result"
    }
   ],
   "source": [
    "df_electricity['meter_reading'].describe()"
   ]
  },
  {
   "cell_type": "code",
   "execution_count": 28,
   "id": "94ee0d56-efc6-4fb4-ad02-5c851f19527b",
   "metadata": {},
   "outputs": [
    {
     "data": {
      "text/plain": [
       "<AxesSubplot:xlabel='timestamp'>"
      ]
     },
     "execution_count": 28,
     "metadata": {},
     "output_type": "execute_result"
    },
    {
     "data": {
      "image/png": "[encoded data removed]",
      "text/plain": [
       "<Figure size 432x288 with 1 Axes>"
      ]
     },
     "metadata": {
      "needs_background": "light"
     },
     "output_type": "display_data"
    }
   ],
   "source": [
    "# Daily\n",
    "df_electricity['meter_reading'].plot()"
   ]
  },
  {
   "cell_type": "code",
   "execution_count": 30,
   "id": "34b4f4d5-3b63-4184-a59e-3ef63917a4ff",
   "metadata": {},
   "outputs": [
    {
     "data": {
      "text/plain": [
       "<AxesSubplot:xlabel='timestamp'>"
      ]
     },
     "execution_count": 30,
     "metadata": {},
     "output_type": "execute_result"
    },
    {
     "data": {
      "image/png": "[encoded data removed]",
      "text/plain": [
       "<Figure size 432x288 with 1 Axes>"
      ]
     },
     "metadata": {
      "needs_background": "light"
     },
     "output_type": "display_data"
    }
   ],
   "source": [
    "# Weekly\n",
    "df_electricity['meter_reading'].resample('W').sum().plot()"
   ]
  },
  {
   "cell_type": "code",
   "execution_count": 31,
   "id": "e0eec3b3-66be-4f81-b0f1-aa9f6a6234ef",
   "metadata": {},
   "outputs": [
    {
     "data": {
      "text/plain": [
       "<AxesSubplot:xlabel='timestamp'>"
      ]
     },
     "execution_count": 31,
     "metadata": {},
     "output_type": "execute_result"
    },
    {
     "data": {
      "image/png": "[encoded data removed]",
      "text/plain": [
       "<Figure size 432x288 with 1 Axes>"
      ]
     },
     "metadata": {
      "needs_background": "light"
     },
     "output_type": "display_data"
    }
   ],
   "source": [
    "# Monthly\n",
    "df_electricity['meter_reading'].resample('M').sum().plot()"
   ]
  },
  {
   "cell_type": "code",
   "execution_count": 35,
   "id": "fbbdd602-6479-4ad2-8304-5b409bf30fc2",
   "metadata": {},
   "outputs": [
    {
     "data": {
      "text/html": [
       "<div>\n",
       "<style scoped>\n",
       "    .dataframe tbody tr th:only-of-type {\n",
       "        vertical-align: middle;\n",
       "    }\n",
       "\n",
       "    .dataframe tbody tr th {\n",
       "        vertical-align: top;\n",
       "    }\n",
       "\n",
       "    .dataframe thead th {\n",
       "        text-align: right;\n",
       "    }\n",
       "</style>\n",
       "<table border=\"1\" class=\"dataframe\">\n",
       "  <thead>\n",
       "    <tr style=\"text-align: right;\">\n",
       "      <th></th>\n",
       "      <th>building_id</th>\n",
       "      <th>meter_reading</th>\n",
       "    </tr>\n",
       "    <tr>\n",
       "      <th>timestamp</th>\n",
       "      <th></th>\n",
       "      <th></th>\n",
       "    </tr>\n",
       "  </thead>\n",
       "  <tbody>\n",
       "    <tr>\n",
       "      <th>2016-01-01</th>\n",
       "      <td>0</td>\n",
       "      <td>0.0</td>\n",
       "    </tr>\n",
       "    <tr>\n",
       "      <th>2016-01-01</th>\n",
       "      <td>1</td>\n",
       "      <td>0.0</td>\n",
       "    </tr>\n",
       "    <tr>\n",
       "      <th>2016-01-01</th>\n",
       "      <td>2</td>\n",
       "      <td>0.0</td>\n",
       "    </tr>\n",
       "    <tr>\n",
       "      <th>2016-01-01</th>\n",
       "      <td>3</td>\n",
       "      <td>0.0</td>\n",
       "    </tr>\n",
       "    <tr>\n",
       "      <th>2016-01-01</th>\n",
       "      <td>4</td>\n",
       "      <td>0.0</td>\n",
       "    </tr>\n",
       "  </tbody>\n",
       "</table>\n",
       "</div>"
      ],
      "text/plain": [
       "            building_id  meter_reading\n",
       "timestamp                             \n",
       "2016-01-01            0            0.0\n",
       "2016-01-01            1            0.0\n",
       "2016-01-01            2            0.0\n",
       "2016-01-01            3            0.0\n",
       "2016-01-01            4            0.0"
      ]
     },
     "execution_count": 35,
     "metadata": {},
     "output_type": "execute_result"
    }
   ],
   "source": [
    "df_electriciy_building = (\n",
    "    train_df\n",
    "    .query('meter == 0')\n",
    "    .groupby(['timestamp', 'building_id'])['meter_reading']\n",
    "    .sum()\n",
    "    .reset_index()\n",
    "    .set_index('timestamp')\n",
    ")\n",
    "\n",
    "df_electriciy_building.head()"
   ]
  },
  {
   "cell_type": "code",
   "execution_count": 36,
   "id": "48229d0c-1b82-43b8-b3f9-4b7609c6e4ba",
   "metadata": {},
   "outputs": [
    {
     "data": {
      "text/plain": [
       "(1413,)"
      ]
     },
     "execution_count": 36,
     "metadata": {},
     "output_type": "execute_result"
    }
   ],
   "source": [
    "df_electriciy_building['building_id'].unique().shape"
   ]
  },
  {
   "cell_type": "markdown",
   "id": "2a6590ed-2c62-4e3a-8c1d-4fbd7834ba12",
   "metadata": {},
   "source": [
    "# Chilledwater"
   ]
  },
  {
   "cell_type": "code",
   "execution_count": 39,
   "id": "fc1c523a-61c6-4c4f-921e-554950a02721",
   "metadata": {
    "tags": []
   },
   "outputs": [
    {
     "data": {
      "text/html": [
       "<div>\n",
       "<style scoped>\n",
       "    .dataframe tbody tr th:only-of-type {\n",
       "        vertical-align: middle;\n",
       "    }\n",
       "\n",
       "    .dataframe tbody tr th {\n",
       "        vertical-align: top;\n",
       "    }\n",
       "\n",
       "    .dataframe thead th {\n",
       "        text-align: right;\n",
       "    }\n",
       "</style>\n",
       "<table border=\"1\" class=\"dataframe\">\n",
       "  <thead>\n",
       "    <tr style=\"text-align: right;\">\n",
       "      <th></th>\n",
       "      <th>meter</th>\n",
       "      <th>meter_reading</th>\n",
       "    </tr>\n",
       "    <tr>\n",
       "      <th>timestamp</th>\n",
       "      <th></th>\n",
       "      <th></th>\n",
       "    </tr>\n",
       "  </thead>\n",
       "  <tbody>\n",
       "    <tr>\n",
       "      <th>2016-01-01 00:00:00</th>\n",
       "      <td>1</td>\n",
       "      <td>52396.5669</td>\n",
       "    </tr>\n",
       "    <tr>\n",
       "      <th>2016-01-01 01:00:00</th>\n",
       "      <td>1</td>\n",
       "      <td>59582.4064</td>\n",
       "    </tr>\n",
       "    <tr>\n",
       "      <th>2016-01-01 02:00:00</th>\n",
       "      <td>1</td>\n",
       "      <td>58646.9936</td>\n",
       "    </tr>\n",
       "    <tr>\n",
       "      <th>2016-01-01 03:00:00</th>\n",
       "      <td>1</td>\n",
       "      <td>55827.6281</td>\n",
       "    </tr>\n",
       "    <tr>\n",
       "      <th>2016-01-01 04:00:00</th>\n",
       "      <td>1</td>\n",
       "      <td>53843.3643</td>\n",
       "    </tr>\n",
       "  </tbody>\n",
       "</table>\n",
       "</div>"
      ],
      "text/plain": [
       "                     meter  meter_reading\n",
       "timestamp                                \n",
       "2016-01-01 00:00:00      1     52396.5669\n",
       "2016-01-01 01:00:00      1     59582.4064\n",
       "2016-01-01 02:00:00      1     58646.9936\n",
       "2016-01-01 03:00:00      1     55827.6281\n",
       "2016-01-01 04:00:00      1     53843.3643"
      ]
     },
     "execution_count": 39,
     "metadata": {},
     "output_type": "execute_result"
    }
   ],
   "source": [
    "df_chilledwater = df_meter.query('meter == 1')\n",
    "df_chilledwater.head()"
   ]
  },
  {
   "cell_type": "code",
   "execution_count": 40,
   "id": "906cf9d9-0ad4-455d-a93a-e58ac754119c",
   "metadata": {},
   "outputs": [
    {
     "data": {
      "text/plain": [
       "<AxesSubplot:>"
      ]
     },
     "execution_count": 40,
     "metadata": {},
     "output_type": "execute_result"
    },
    {
     "data": {
      "image/png": "[encoded data removed]",
      "text/plain": [
       "<Figure size 432x288 with 1 Axes>"
      ]
     },
     "metadata": {
      "needs_background": "light"
     },
     "output_type": "display_data"
    }
   ],
   "source": [
    "df_chilledwater['meter_reading'].hist(bins=50)"
   ]
  },
  {
   "cell_type": "code",
   "execution_count": 45,
   "id": "4f503760-fb86-4490-8e00-4bd42cdc6418",
   "metadata": {},
   "outputs": [
    {
     "data": {
      "text/plain": [
       "count    8.784000e+03\n",
       "mean     3.015718e+05\n",
       "std      2.509347e+05\n",
       "min      3.367536e+04\n",
       "25%      1.190281e+05\n",
       "50%      2.239924e+05\n",
       "75%      4.068221e+05\n",
       "max      1.502244e+06\n",
       "Name: meter_reading, dtype: float64"
      ]
     },
     "execution_count": 45,
     "metadata": {},
     "output_type": "execute_result"
    }
   ],
   "source": [
    "df_chilledwater['meter_reading'].describe()"
   ]
  },
  {
   "cell_type": "code",
   "execution_count": 46,
   "id": "dc54f106-a061-4de0-9136-b2ac1c21b660",
   "metadata": {},
   "outputs": [
    {
     "data": {
      "text/plain": [
       "<AxesSubplot:xlabel='timestamp'>"
      ]
     },
     "execution_count": 46,
     "metadata": {},
     "output_type": "execute_result"
    },
    {
     "data": {
      "image/png": "[encoded data removed]",
      "text/plain": [
       "<Figure size 432x288 with 1 Axes>"
      ]
     },
     "metadata": {
      "needs_background": "light"
     },
     "output_type": "display_data"
    }
   ],
   "source": [
    "# Daily\n",
    "df_chilledwater['meter_reading'].plot()"
   ]
  },
  {
   "cell_type": "code",
   "execution_count": 41,
   "id": "5254a866-15d3-4001-8014-37918f6ad1ec",
   "metadata": {},
   "outputs": [
    {
     "data": {
      "text/plain": [
       "<AxesSubplot:xlabel='timestamp'>"
      ]
     },
     "execution_count": 41,
     "metadata": {},
     "output_type": "execute_result"
    },
    {
     "data": {
      "image/png": "[encoded data removed]",
      "text/plain": [
       "<Figure size 432x288 with 1 Axes>"
      ]
     },
     "metadata": {
      "needs_background": "light"
     },
     "output_type": "display_data"
    }
   ],
   "source": [
    "# Weekly\n",
    "df_chilledwater['meter_reading'].resample('W').sum().plot()"
   ]
  },
  {
   "cell_type": "code",
   "execution_count": 31,
   "id": "2a27d1ac-a69a-4d94-ad82-3be86f0f5550",
   "metadata": {},
   "outputs": [
    {
     "data": {
      "text/plain": [
       "<AxesSubplot:xlabel='timestamp'>"
      ]
     },
     "execution_count": 31,
     "metadata": {},
     "output_type": "execute_result"
    },
    {
     "data": {
      "image/png": "[encoded data removed]",
      "text/plain": [
       "<Figure size 432x288 with 1 Axes>"
      ]
     },
     "metadata": {
      "needs_background": "light"
     },
     "output_type": "display_data"
    }
   ],
   "source": [
    "# Monthly\n",
    "df_chilledwater['meter_reading'].resample('M').sum().plot()"
   ]
  },
  {
   "cell_type": "code",
   "execution_count": 42,
   "id": "3a1fb9c0-f855-4c51-9172-373c488e3f7c",
   "metadata": {},
   "outputs": [
    {
     "data": {
      "text/html": [
       "<div>\n",
       "<style scoped>\n",
       "    .dataframe tbody tr th:only-of-type {\n",
       "        vertical-align: middle;\n",
       "    }\n",
       "\n",
       "    .dataframe tbody tr th {\n",
       "        vertical-align: top;\n",
       "    }\n",
       "\n",
       "    .dataframe thead th {\n",
       "        text-align: right;\n",
       "    }\n",
       "</style>\n",
       "<table border=\"1\" class=\"dataframe\">\n",
       "  <thead>\n",
       "    <tr style=\"text-align: right;\">\n",
       "      <th></th>\n",
       "      <th>building_id</th>\n",
       "      <th>meter_reading</th>\n",
       "    </tr>\n",
       "    <tr>\n",
       "      <th>timestamp</th>\n",
       "      <th></th>\n",
       "      <th></th>\n",
       "    </tr>\n",
       "  </thead>\n",
       "  <tbody>\n",
       "    <tr>\n",
       "      <th>2016-01-01</th>\n",
       "      <td>161</td>\n",
       "      <td>0.0000</td>\n",
       "    </tr>\n",
       "    <tr>\n",
       "      <th>2016-01-01</th>\n",
       "      <td>162</td>\n",
       "      <td>0.0000</td>\n",
       "    </tr>\n",
       "    <tr>\n",
       "      <th>2016-01-01</th>\n",
       "      <td>163</td>\n",
       "      <td>4.5719</td>\n",
       "    </tr>\n",
       "    <tr>\n",
       "      <th>2016-01-01</th>\n",
       "      <td>166</td>\n",
       "      <td>209.8860</td>\n",
       "    </tr>\n",
       "    <tr>\n",
       "      <th>2016-01-01</th>\n",
       "      <td>167</td>\n",
       "      <td>0.0000</td>\n",
       "    </tr>\n",
       "  </tbody>\n",
       "</table>\n",
       "</div>"
      ],
      "text/plain": [
       "            building_id  meter_reading\n",
       "timestamp                             \n",
       "2016-01-01          161         0.0000\n",
       "2016-01-01          162         0.0000\n",
       "2016-01-01          163         4.5719\n",
       "2016-01-01          166       209.8860\n",
       "2016-01-01          167         0.0000"
      ]
     },
     "execution_count": 42,
     "metadata": {},
     "output_type": "execute_result"
    }
   ],
   "source": [
    "df_chilledwater_building = (\n",
    "    train_df\n",
    "    .query('meter == 1')\n",
    "    .groupby(['timestamp', 'building_id'])['meter_reading']\n",
    "    .sum()\n",
    "    .reset_index()\n",
    "    .set_index('timestamp')\n",
    ")\n",
    "\n",
    "df_chilledwater_building.head()"
   ]
  },
  {
   "cell_type": "code",
   "execution_count": 43,
   "id": "c5ed53b9-f0f6-4a21-9063-aa97898bb769",
   "metadata": {},
   "outputs": [
    {
     "data": {
      "text/plain": [
       "(498,)"
      ]
     },
     "execution_count": 43,
     "metadata": {},
     "output_type": "execute_result"
    }
   ],
   "source": [
    "df_chilledwater_building['building_id'].unique().shape"
   ]
  },
  {
   "cell_type": "markdown",
   "id": "52ea7778-a634-44fc-8650-55e266ed05df",
   "metadata": {},
   "source": [
    "# Steam"
   ]
  },
  {
   "cell_type": "code",
   "execution_count": 48,
   "id": "38c1845d-5724-483a-9b37-c1eff9dcccd1",
   "metadata": {
    "tags": []
   },
   "outputs": [
    {
     "data": {
      "text/html": [
       "<div>\n",
       "<style scoped>\n",
       "    .dataframe tbody tr th:only-of-type {\n",
       "        vertical-align: middle;\n",
       "    }\n",
       "\n",
       "    .dataframe tbody tr th {\n",
       "        vertical-align: top;\n",
       "    }\n",
       "\n",
       "    .dataframe thead th {\n",
       "        text-align: right;\n",
       "    }\n",
       "</style>\n",
       "<table border=\"1\" class=\"dataframe\">\n",
       "  <thead>\n",
       "    <tr style=\"text-align: right;\">\n",
       "      <th></th>\n",
       "      <th>meter</th>\n",
       "      <th>meter_reading</th>\n",
       "    </tr>\n",
       "    <tr>\n",
       "      <th>timestamp</th>\n",
       "      <th></th>\n",
       "      <th></th>\n",
       "    </tr>\n",
       "  </thead>\n",
       "  <tbody>\n",
       "    <tr>\n",
       "      <th>2016-01-01 00:00:00</th>\n",
       "      <td>2</td>\n",
       "      <td>3.924435e+06</td>\n",
       "    </tr>\n",
       "    <tr>\n",
       "      <th>2016-01-01 01:00:00</th>\n",
       "      <td>2</td>\n",
       "      <td>3.964789e+06</td>\n",
       "    </tr>\n",
       "    <tr>\n",
       "      <th>2016-01-01 02:00:00</th>\n",
       "      <td>2</td>\n",
       "      <td>9.660917e+05</td>\n",
       "    </tr>\n",
       "    <tr>\n",
       "      <th>2016-01-01 03:00:00</th>\n",
       "      <td>2</td>\n",
       "      <td>7.249452e+05</td>\n",
       "    </tr>\n",
       "    <tr>\n",
       "      <th>2016-01-01 04:00:00</th>\n",
       "      <td>2</td>\n",
       "      <td>8.847084e+05</td>\n",
       "    </tr>\n",
       "  </tbody>\n",
       "</table>\n",
       "</div>"
      ],
      "text/plain": [
       "                     meter  meter_reading\n",
       "timestamp                                \n",
       "2016-01-01 00:00:00      2   3.924435e+06\n",
       "2016-01-01 01:00:00      2   3.964789e+06\n",
       "2016-01-01 02:00:00      2   9.660917e+05\n",
       "2016-01-01 03:00:00      2   7.249452e+05\n",
       "2016-01-01 04:00:00      2   8.847084e+05"
      ]
     },
     "execution_count": 48,
     "metadata": {},
     "output_type": "execute_result"
    }
   ],
   "source": [
    "df_steam = df_meter.query('meter == 2')\n",
    "df_steam.head()"
   ]
  },
  {
   "cell_type": "code",
   "execution_count": 49,
   "id": "ccd85d54-24ba-4e5b-89ea-b33bf4a09572",
   "metadata": {},
   "outputs": [
    {
     "data": {
      "text/plain": [
       "<AxesSubplot:>"
      ]
     },
     "execution_count": 49,
     "metadata": {},
     "output_type": "execute_result"
    },
    {
     "data": {
      "image/png": "[encoded data removed]",
      "text/plain": [
       "<Figure size 432x288 with 1 Axes>"
      ]
     },
     "metadata": {
      "needs_background": "light"
     },
     "output_type": "display_data"
    }
   ],
   "source": [
    "df_steam['meter_reading'].hist(bins=50)"
   ]
  },
  {
   "cell_type": "code",
   "execution_count": 50,
   "id": "53b17417-4fc1-4518-a655-7f5758de2b3c",
   "metadata": {},
   "outputs": [
    {
     "data": {
      "text/plain": [
       "count    8.784000e+03\n",
       "mean     4.280836e+06\n",
       "std      6.226528e+06\n",
       "min      1.588777e+05\n",
       "25%      3.727463e+05\n",
       "50%      6.666269e+05\n",
       "75%      6.788938e+06\n",
       "max      2.237587e+07\n",
       "Name: meter_reading, dtype: float64"
      ]
     },
     "execution_count": 50,
     "metadata": {},
     "output_type": "execute_result"
    }
   ],
   "source": [
    "df_steam['meter_reading'].describe()"
   ]
  },
  {
   "cell_type": "code",
   "execution_count": 51,
   "id": "c136aa2a-6c40-48fa-b058-bb4fb790b4e0",
   "metadata": {},
   "outputs": [
    {
     "data": {
      "text/plain": [
       "<AxesSubplot:xlabel='timestamp'>"
      ]
     },
     "execution_count": 51,
     "metadata": {},
     "output_type": "execute_result"
    },
    {
     "data": {
      "image/png": "[encoded data removed]",
      "text/plain": [
       "<Figure size 432x288 with 1 Axes>"
      ]
     },
     "metadata": {
      "needs_background": "light"
     },
     "output_type": "display_data"
    }
   ],
   "source": [
    "# Daily\n",
    "df_steam['meter_reading'].plot()"
   ]
  },
  {
   "cell_type": "code",
   "execution_count": 53,
   "id": "3570beee-0b68-45d5-b978-bce4d0356472",
   "metadata": {},
   "outputs": [
    {
     "data": {
      "text/plain": [
       "<AxesSubplot:xlabel='timestamp'>"
      ]
     },
     "execution_count": 53,
     "metadata": {},
     "output_type": "execute_result"
    },
    {
     "data": {
      "image/png": "[encoded data removed]",
      "text/plain": [
       "<Figure size 432x288 with 1 Axes>"
      ]
     },
     "metadata": {
      "needs_background": "light"
     },
     "output_type": "display_data"
    }
   ],
   "source": [
    "# Weekly\n",
    "df_steam['meter_reading'].resample('W').sum().plot()"
   ]
  },
  {
   "cell_type": "code",
   "execution_count": 54,
   "id": "a0835338-569f-4502-a6ed-6fb5442036c6",
   "metadata": {},
   "outputs": [
    {
     "data": {
      "text/plain": [
       "<AxesSubplot:xlabel='timestamp'>"
      ]
     },
     "execution_count": 54,
     "metadata": {},
     "output_type": "execute_result"
    },
    {
     "data": {
      "image/png": "[encoded data removed]",
      "text/plain": [
       "<Figure size 432x288 with 1 Axes>"
      ]
     },
     "metadata": {
      "needs_background": "light"
     },
     "output_type": "display_data"
    }
   ],
   "source": [
    "# Monthly\n",
    "df_steam['meter_reading'].resample('M').sum().plot()"
   ]
  },
  {
   "cell_type": "code",
   "execution_count": 56,
   "id": "54abcc2c-321b-490d-8e43-21175a3fc691",
   "metadata": {},
   "outputs": [
    {
     "data": {
      "text/html": [
       "<div>\n",
       "<style scoped>\n",
       "    .dataframe tbody tr th:only-of-type {\n",
       "        vertical-align: middle;\n",
       "    }\n",
       "\n",
       "    .dataframe tbody tr th {\n",
       "        vertical-align: top;\n",
       "    }\n",
       "\n",
       "    .dataframe thead th {\n",
       "        text-align: right;\n",
       "    }\n",
       "</style>\n",
       "<table border=\"1\" class=\"dataframe\">\n",
       "  <thead>\n",
       "    <tr style=\"text-align: right;\">\n",
       "      <th></th>\n",
       "      <th>building_id</th>\n",
       "      <th>meter_reading</th>\n",
       "    </tr>\n",
       "    <tr>\n",
       "      <th>timestamp</th>\n",
       "      <th></th>\n",
       "      <th></th>\n",
       "    </tr>\n",
       "  </thead>\n",
       "  <tbody>\n",
       "    <tr>\n",
       "      <th>2016-01-01</th>\n",
       "      <td>745</td>\n",
       "      <td>0.000</td>\n",
       "    </tr>\n",
       "    <tr>\n",
       "      <th>2016-01-01</th>\n",
       "      <td>747</td>\n",
       "      <td>120.786</td>\n",
       "    </tr>\n",
       "    <tr>\n",
       "      <th>2016-01-01</th>\n",
       "      <td>750</td>\n",
       "      <td>4678.140</td>\n",
       "    </tr>\n",
       "    <tr>\n",
       "      <th>2016-01-01</th>\n",
       "      <td>751</td>\n",
       "      <td>0.000</td>\n",
       "    </tr>\n",
       "    <tr>\n",
       "      <th>2016-01-01</th>\n",
       "      <td>753</td>\n",
       "      <td>324.226</td>\n",
       "    </tr>\n",
       "  </tbody>\n",
       "</table>\n",
       "</div>"
      ],
      "text/plain": [
       "            building_id  meter_reading\n",
       "timestamp                             \n",
       "2016-01-01          745          0.000\n",
       "2016-01-01          747        120.786\n",
       "2016-01-01          750       4678.140\n",
       "2016-01-01          751          0.000\n",
       "2016-01-01          753        324.226"
      ]
     },
     "execution_count": 56,
     "metadata": {},
     "output_type": "execute_result"
    }
   ],
   "source": [
    "df_steam_building = (\n",
    "    train_df\n",
    "    .query('meter == 2')\n",
    "    .groupby(['timestamp', 'building_id'])['meter_reading']\n",
    "    .sum()\n",
    "    .reset_index()\n",
    "    .set_index('timestamp')\n",
    ")\n",
    "\n",
    "df_steam_building.head()"
   ]
  },
  {
   "cell_type": "code",
   "execution_count": 57,
   "id": "c281f9b1-35f0-4a32-a4de-be8d0eed2a57",
   "metadata": {
    "tags": []
   },
   "outputs": [
    {
     "data": {
      "text/plain": [
       "(324,)"
      ]
     },
     "execution_count": 57,
     "metadata": {},
     "output_type": "execute_result"
    }
   ],
   "source": [
    "df_steam_building['building_id'].unique().shape"
   ]
  },
  {
   "cell_type": "markdown",
   "id": "5b8f2353-229e-4fc0-a5d4-7a4fe0947813",
   "metadata": {},
   "source": [
    "# Hotwater"
   ]
  },
  {
   "cell_type": "code",
   "execution_count": 58,
   "id": "acbaf38b-5999-499c-b64b-c868bb070437",
   "metadata": {
    "tags": []
   },
   "outputs": [
    {
     "data": {
      "text/html": [
       "<div>\n",
       "<style scoped>\n",
       "    .dataframe tbody tr th:only-of-type {\n",
       "        vertical-align: middle;\n",
       "    }\n",
       "\n",
       "    .dataframe tbody tr th {\n",
       "        vertical-align: top;\n",
       "    }\n",
       "\n",
       "    .dataframe thead th {\n",
       "        text-align: right;\n",
       "    }\n",
       "</style>\n",
       "<table border=\"1\" class=\"dataframe\">\n",
       "  <thead>\n",
       "    <tr style=\"text-align: right;\">\n",
       "      <th></th>\n",
       "      <th>meter</th>\n",
       "      <th>meter_reading</th>\n",
       "    </tr>\n",
       "    <tr>\n",
       "      <th>timestamp</th>\n",
       "      <th></th>\n",
       "      <th></th>\n",
       "    </tr>\n",
       "  </thead>\n",
       "  <tbody>\n",
       "    <tr>\n",
       "      <th>2016-01-01 00:00:00</th>\n",
       "      <td>3</td>\n",
       "      <td>87655.1681</td>\n",
       "    </tr>\n",
       "    <tr>\n",
       "      <th>2016-01-01 01:00:00</th>\n",
       "      <td>3</td>\n",
       "      <td>60670.8718</td>\n",
       "    </tr>\n",
       "    <tr>\n",
       "      <th>2016-01-01 02:00:00</th>\n",
       "      <td>3</td>\n",
       "      <td>68204.1314</td>\n",
       "    </tr>\n",
       "    <tr>\n",
       "      <th>2016-01-01 03:00:00</th>\n",
       "      <td>3</td>\n",
       "      <td>61265.7329</td>\n",
       "    </tr>\n",
       "    <tr>\n",
       "      <th>2016-01-01 04:00:00</th>\n",
       "      <td>3</td>\n",
       "      <td>64722.2291</td>\n",
       "    </tr>\n",
       "  </tbody>\n",
       "</table>\n",
       "</div>"
      ],
      "text/plain": [
       "                     meter  meter_reading\n",
       "timestamp                                \n",
       "2016-01-01 00:00:00      3     87655.1681\n",
       "2016-01-01 01:00:00      3     60670.8718\n",
       "2016-01-01 02:00:00      3     68204.1314\n",
       "2016-01-01 03:00:00      3     61265.7329\n",
       "2016-01-01 04:00:00      3     64722.2291"
      ]
     },
     "execution_count": 58,
     "metadata": {},
     "output_type": "execute_result"
    }
   ],
   "source": [
    "df_hotwater = df_meter.query('meter == 3')\n",
    "df_hotwater.head()"
   ]
  },
  {
   "cell_type": "code",
   "execution_count": 59,
   "id": "56cf9c7a-cc55-4ae6-811e-a7716f77c55c",
   "metadata": {},
   "outputs": [
    {
     "data": {
      "text/plain": [
       "<AxesSubplot:>"
      ]
     },
     "execution_count": 59,
     "metadata": {},
     "output_type": "execute_result"
    },
    {
     "data": {
      "image/png": "[encoded data removed]",
      "text/plain": [
       "<Figure size 432x288 with 1 Axes>"
      ]
     },
     "metadata": {
      "needs_background": "light"
     },
     "output_type": "display_data"
    }
   ],
   "source": [
    "df_hotwater['meter_reading'].hist(bins=50)"
   ]
  },
  {
   "cell_type": "code",
   "execution_count": 60,
   "id": "5156ee07-0e70-43f9-b0be-577569ba41ef",
   "metadata": {},
   "outputs": [
    {
     "data": {
      "text/plain": [
       "count      8784.000000\n",
       "mean      55527.081991\n",
       "std       33799.846600\n",
       "min        2923.173900\n",
       "25%       25143.100375\n",
       "50%       49141.478300\n",
       "75%       77997.790850\n",
       "max      245873.194700\n",
       "Name: meter_reading, dtype: float64"
      ]
     },
     "execution_count": 60,
     "metadata": {},
     "output_type": "execute_result"
    }
   ],
   "source": [
    "df_hotwater['meter_reading'].describe()"
   ]
  },
  {
   "cell_type": "code",
   "execution_count": 61,
   "id": "f4ae41f1-4065-48b0-ba58-10316608759f",
   "metadata": {},
   "outputs": [
    {
     "data": {
      "text/plain": [
       "<AxesSubplot:xlabel='timestamp'>"
      ]
     },
     "execution_count": 61,
     "metadata": {},
     "output_type": "execute_result"
    },
    {
     "data": {
      "image/png": "[encoded data removed]",
      "text/plain": [
       "<Figure size 432x288 with 1 Axes>"
      ]
     },
     "metadata": {
      "needs_background": "light"
     },
     "output_type": "display_data"
    }
   ],
   "source": [
    "# Daily\n",
    "df_hotwater['meter_reading'].plot()"
   ]
  },
  {
   "cell_type": "code",
   "execution_count": 62,
   "id": "b3bfddcf-e7ac-4b0e-864d-a5fad5e17a08",
   "metadata": {},
   "outputs": [
    {
     "data": {
      "text/plain": [
       "<AxesSubplot:xlabel='timestamp'>"
      ]
     },
     "execution_count": 62,
     "metadata": {},
     "output_type": "execute_result"
    },
    {
     "data": {
      "image/png": "[encoded data removed]",
      "text/plain": [
       "<Figure size 432x288 with 1 Axes>"
      ]
     },
     "metadata": {
      "needs_background": "light"
     },
     "output_type": "display_data"
    }
   ],
   "source": [
    "# Weekly\n",
    "df_hotwater['meter_reading'].resample('W').sum().plot()"
   ]
  },
  {
   "cell_type": "code",
   "execution_count": 63,
   "id": "50cc3e5d-74f0-488b-840c-7068e94f323c",
   "metadata": {},
   "outputs": [
    {
     "data": {
      "text/plain": [
       "<AxesSubplot:xlabel='timestamp'>"
      ]
     },
     "execution_count": 63,
     "metadata": {},
     "output_type": "execute_result"
    },
    {
     "data": {
      "image/png": "[encoded data removed]",
      "text/plain": [
       "<Figure size 432x288 with 1 Axes>"
      ]
     },
     "metadata": {
      "needs_background": "light"
     },
     "output_type": "display_data"
    }
   ],
   "source": [
    "# Monthly\n",
    "df_hotwater['meter_reading'].resample('M').sum().plot()"
   ]
  },
  {
   "cell_type": "code",
   "execution_count": 64,
   "id": "332556e5-9889-4cbf-87a0-dfa5b388641d",
   "metadata": {},
   "outputs": [
    {
     "data": {
      "text/html": [
       "<div>\n",
       "<style scoped>\n",
       "    .dataframe tbody tr th:only-of-type {\n",
       "        vertical-align: middle;\n",
       "    }\n",
       "\n",
       "    .dataframe tbody tr th {\n",
       "        vertical-align: top;\n",
       "    }\n",
       "\n",
       "    .dataframe thead th {\n",
       "        text-align: right;\n",
       "    }\n",
       "</style>\n",
       "<table border=\"1\" class=\"dataframe\">\n",
       "  <thead>\n",
       "    <tr style=\"text-align: right;\">\n",
       "      <th></th>\n",
       "      <th>building_id</th>\n",
       "      <th>meter_reading</th>\n",
       "    </tr>\n",
       "    <tr>\n",
       "      <th>timestamp</th>\n",
       "      <th></th>\n",
       "      <th></th>\n",
       "    </tr>\n",
       "  </thead>\n",
       "  <tbody>\n",
       "    <tr>\n",
       "      <th>2016-01-01</th>\n",
       "      <td>106</td>\n",
       "      <td>0.000</td>\n",
       "    </tr>\n",
       "    <tr>\n",
       "      <th>2016-01-01</th>\n",
       "      <td>109</td>\n",
       "      <td>0.000</td>\n",
       "    </tr>\n",
       "    <tr>\n",
       "      <th>2016-01-01</th>\n",
       "      <td>112</td>\n",
       "      <td>96.978</td>\n",
       "    </tr>\n",
       "    <tr>\n",
       "      <th>2016-01-01</th>\n",
       "      <td>113</td>\n",
       "      <td>19.597</td>\n",
       "    </tr>\n",
       "    <tr>\n",
       "      <th>2016-01-01</th>\n",
       "      <td>114</td>\n",
       "      <td>100.000</td>\n",
       "    </tr>\n",
       "  </tbody>\n",
       "</table>\n",
       "</div>"
      ],
      "text/plain": [
       "            building_id  meter_reading\n",
       "timestamp                             \n",
       "2016-01-01          106          0.000\n",
       "2016-01-01          109          0.000\n",
       "2016-01-01          112         96.978\n",
       "2016-01-01          113         19.597\n",
       "2016-01-01          114        100.000"
      ]
     },
     "execution_count": 64,
     "metadata": {},
     "output_type": "execute_result"
    }
   ],
   "source": [
    "df_hotwater_building = (\n",
    "    train_df\n",
    "    .query('meter == 3')\n",
    "    .groupby(['timestamp', 'building_id'])['meter_reading']\n",
    "    .sum()\n",
    "    .reset_index()\n",
    "    .set_index('timestamp')\n",
    ")\n",
    "\n",
    "df_hotwater_building.head()"
   ]
  },
  {
   "cell_type": "code",
   "execution_count": 65,
   "id": "be64af2d-8f3b-45ca-a634-2e1c4bd0007d",
   "metadata": {
    "tags": []
   },
   "outputs": [
    {
     "data": {
      "text/plain": [
       "(145,)"
      ]
     },
     "execution_count": 65,
     "metadata": {},
     "output_type": "execute_result"
    }
   ],
   "source": [
    "df_hotwater_building['building_id'].unique().shape"
   ]
  },
  {
   "cell_type": "code",
   "execution_count": null,
   "id": "cc1f063a-e57b-4744-a01f-67567f3e28ab",
   "metadata": {},
   "outputs": [],
   "source": []
  }
 ],
 "metadata": {
  "kernelspec": {
   "display_name": "Python 3 (ipykernel)",
   "language": "python",
   "name": "python3"
  },
  "language_info": {
   "codemirror_mode": {
    "name": "ipython",
    "version": 3
   },
   "file_extension": ".py",
   "mimetype": "text/x-python",
   "name": "python",
   "nbconvert_exporter": "python",
   "pygments_lexer": "ipython3",
   "version": "3.8.10"
  }
 },
 "nbformat": 4,
 "nbformat_minor": 5
}
